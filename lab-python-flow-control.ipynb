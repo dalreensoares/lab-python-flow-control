{
 "cells": [
  {
   "cell_type": "markdown",
   "id": "d3bfc191-8885-42ee-b0a0-bbab867c6f9f",
   "metadata": {
    "tags": []
   },
   "source": [
    "# Lab | Flow Control"
   ]
  },
  {
   "cell_type": "markdown",
   "id": "3851fcd1-cf98-4653-9c89-e003b7ec9400",
   "metadata": {},
   "source": [
    "## Exercise: Managing Customer Orders Optimized\n",
    "\n",
    "In the last lab, you were starting an online store that sells various products. To ensure smooth operations, you developed a program that manages customer orders and inventory.\n",
    "\n",
    "You did so without using flow control. Let's go a step further and improve this code.\n",
    "\n",
    "Follow the steps below to complete the exercise:\n",
    "\n",
    "1. Look at your code from the lab data structures, and improve repeated code with loops.\n",
    "\n",
    "2. Instead of asking the user to input the name of three products that a customer wants to order, do the following:\n",
    "    \n",
    "    a. Prompt the user to enter the name of a product that a customer wants to order.\n",
    "    \n",
    "    b. Add the product name to the \"customer_orders\" set.\n",
    "    \n",
    "    c. Ask the user if they want to add another product (yes/no).\n",
    "    \n",
    "    d. Continue the loop until the user does not want to add another product.\n",
    "\n",
    "3. Instead of updating the inventory by subtracting 1 from the quantity of each product, only do it for  the products that were ordered (those in \"customer_orders\")."
   ]
  },
  {
   "cell_type": "code",
   "execution_count": 43,
   "id": "1b0e96c0",
   "metadata": {},
   "outputs": [],
   "source": [
    "\n",
    "products = [\"t-shirt\", \"mug\", \"hat\", \"book\", \"keychain\"]\n",
    "\n",
    "inventory = {}\n",
    "\n",
    "#1 Use loops for repeated code\n",
    "for product in products:\n",
    "    quantity = int(input(f\"{product}: \"))\n",
    "    inventory[product] = quantity\n",
    "print(inventory)\n",
    "\n",
    "customer_orders = set()\n",
    "\n",
    "#2a - ask the user to enter the name of a product\n",
    "product_name = input(\"Enter the name of 1 product you want to order\")\n",
    "\n",
    "#2b Add the product name to the \"customer_orders\" set.\n",
    "#customer_orders = product_name - if you use product_name, then you are changing the set to an input set. \n",
    "customer_orders.add(product_name)\n",
    "\n",
    "#2c. Ask the user if they want to add another product (yes/no)\n",
    "add_product = input(\"Would you like to order another product? Enter: yes or no\")\n",
    "\n",
    "#2d. Continue the loop until the user does not want to add another product\n",
    "while add_product == \"yes\":\n",
    "    break\n",
    "add_product_2 = (input(\"Enter the name of 1 product you want to order\"))\n",
    "customer_orders.add(add_product_2)\n",
    "    \n",
    "print(customer_orders)\n",
    "\n",
    "#3 update the inventory for the products that were ordered (those in \"customer_orders\")\n",
    "updated_inventory = {\n",
    "            product: (inventory[product] - 1 \n",
    "                if product in customer_orders and inventory[product] > 0 \n",
    "                else inventory[product]) \n",
    "                for product in inventory\n",
    "                \n",
    "}\n",
    "\n",
    "print(updated_inventory)\n",
    "\n"
   ]
  },
  {
   "cell_type": "code",
   "execution_count": null,
   "id": "1222edfc",
   "metadata": {},
   "outputs": [],
   "source": []
  }
 ],
 "metadata": {
  "kernelspec": {
   "display_name": "Python 3 (ipykernel)",
   "language": "python",
   "name": "python3"
  },
  "language_info": {
   "codemirror_mode": {
    "name": "ipython",
    "version": 3
   },
   "file_extension": ".py",
   "mimetype": "text/x-python",
   "name": "python",
   "nbconvert_exporter": "python",
   "pygments_lexer": "ipython3",
   "version": "3.12.0"
  }
 },
 "nbformat": 4,
 "nbformat_minor": 5
}
